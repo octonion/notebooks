{
  "nbformat": 4,
  "nbformat_minor": 0,
  "metadata": {
    "colab": {
      "provenance": [],
      "authorship_tag": "ABX9TyOt0EoFn9N/sI1X9ydp2PjV",
      "include_colab_link": true
    },
    "kernelspec": {
      "name": "python3",
      "display_name": "Python 3"
    },
    "language_info": {
      "name": "python"
    }
  },
  "cells": [
    {
      "cell_type": "markdown",
      "metadata": {
        "id": "view-in-github",
        "colab_type": "text"
      },
      "source": [
        "<a href=\"https://colab.research.google.com/github/octonion/notebooks/blob/main/hedging.ipynb\" target=\"_parent\"><img src=\"https://colab.research.google.com/assets/colab-badge.svg\" alt=\"Open In Colab\"/></a>"
      ]
    },
    {
      "cell_type": "code",
      "source": [],
      "metadata": {
        "id": "c4mYuWfBxv-n"
      },
      "execution_count": null,
      "outputs": []
    },
    {
      "cell_type": "markdown",
      "source": [
        "# How to Hedge a Futures Bet with Large Equity\n",
        "\n",
        "Say we have an active futures bet with large equity, and we'd like to hedge against the risk of our team losing.\n",
        "\n",
        "For example, we're holding a ticket to collect \\$81000.\n",
        "\n",
        "https://x.com/HouseMoney77/status/1906875727250690215\n",
        "\n",
        "Since it comes up all the time, I'm writing an article outlining some suggestions for hedging future sports bets. A first step is defining what you're trying to do i.e. what you're trying to maximize. My analysis is from the perspective of Kelly betting i.e. log-utility.\n",
        "\n",
        "Even if you aren't a Kelly bettor, it's an excellent framework for learning and understanding the decision-making process for hedging.\n",
        "\n",
        "A little summary on hedging using futures. The analysis turned out to be easier than expected, assuming you're using the probabilities implied by the futures themselves. Unfortunately, vigorish tends to be very high with futures, but the critical value has a nice closed-form.\n",
        "\n",
        "This allows you to very easily decide to hedge or not hedge, *assuming* you want to hedge using futures and implied probabilities.\n",
        "\n",
        "An alternative suggestion is to hedge on a game-by-game basis, using moneyline bets. The critical point here is the root of a quadratic."
      ],
      "metadata": {
        "id": "QQ-jMYCxwj-O"
      }
    },
    {
      "cell_type": "markdown",
      "source": [
        "## Hedging on a Rolling Game Basis"
      ],
      "metadata": {
        "id": "MtTV_1j24SY-"
      }
    },
    {
      "cell_type": "markdown",
      "source": [
        "You can hedge using the tourney futures, but the vigorish is quite high. As an alternative, consider a two-step process. You first hedge on the game vs Auburn. If Florida advances, you also hedge the championship game.\n",
        "\n",
        "Here are the details.\n",
        "\n",
        "With the Florida-Auburn game, consider the three mutually exclusive outcomes - Florida beats Auburn and wins the championship with probability $p_1$, Florida beats Auburn but loses the championship with probability $p_2$, Auburn beats Florida with probability $p_3$.\n",
        "\n",
        "Furthermore, let your bankroll be normalized to $1$, your fixed payout for a Florida championship $P$, and your bankroll $B$. Let $x = P/B$, and Auburn win return $b$.\n",
        "\n",
        "We first seek to maximize bankroll fraction $f$ of\n",
        "\n",
        "$$L = p_1 \\log(1 + x - f) + p_2 \\log(1 - f)+ p_3 \\log(1 + f b).$$\n",
        "\n",
        "If I did the math correctly, this will be the unique root in $(0,1)$ for the quadratic\n",
        "\n",
        "$$b f^2 + [p_1 + p_2 - b(1 + p_3(1+x) + p_2 x)] f + [p_3 b(1+x) - p_1 - p_2(1+x)] = 0.$$\n",
        "\n",
        "Hedging the championship game if Florida advances is substantially simpler. This will be\n",
        "\n",
        "$$f^* = \\min\\left(1, (1 - p)(1 + x) - \\frac{p}{b}\\right),$$\n",
        "\n",
        "where x is defined as before, b is the return if Florida's opponent wins, and p is the implied probability of Florida winning.\n",
        "\n",
        "Using Pinnacle's odds and assuming $B = \\$200000$, here's an example.\n",
        "\n",
        "Implied probabilities:\n",
        "\n",
        "*  $p_1$ = Florida championship = 0.245\n",
        "*  $p_2$ = Florida > Auburn, loses championship = 0.338\n",
        "*  $p_3$ = Florida < Auburn = 0.417\n",
        "\n",
        "*  x = 8/20 = 0.4\n",
        "*  b = 2.310-1 = 1.310\n",
        "\n",
        "We solve\n",
        "\n",
        "$$1.310 f^2 + [0.245+0.338 - 1.310(1 + 0.417(1+0.4) + 0.245 0.4)] f + [0.417 1.310(1+0.4) - 0.245 - 0.338(1+0.4)] = 0,$$\n",
        "\n",
        "getting $f^* = 0.0294503$,\n",
        "\n",
        "so hedge the Florida-Auburn game by betting 2.945% of your bankroll on Auburn to win.\n",
        "\n",
        "Hedging using the tourney futures is certainly possible, but the analysis is slightly more involved, requiring using Karush-Kuhn-Tucker conditions and likely needing a numerical solution. But, as I said, the vigorish is very high."
      ],
      "metadata": {
        "id": "Xgpd7_Xj2I-f"
      }
    },
    {
      "cell_type": "markdown",
      "source": [
        "##Hedging with Championship Futures using scipy.minimize\n",
        "\n",
        "Using log-utility, we want to maximize\n",
        "\n",
        "$$p_1 \\log(1 + x - f_2-f_3-f_4) + p_2 \\log(1 + f_2 b_2-f_3-f_4) + p_3 \\log(1 + f_3 b_3-f_2-f_4) + p_4 \\log(1 + f_4 b_4-f_2-f_3),$$\n",
        "\n",
        "where $0 <= p_1, p_2, p_3, p_4$, $p_1+p_2+p_3+p_4 = 1$, $0 \\leq f_2, f_3, f_4$, $f_2+f_3+f_4 \\leq 1$ and $x \\geq 0$."
      ],
      "metadata": {
        "id": "gRF47ouR488-"
      }
    },
    {
      "cell_type": "code",
      "execution_count": 3,
      "metadata": {
        "colab": {
          "base_uri": "https://localhost:8080/"
        },
        "id": "ikK_nPTFwaRX",
        "outputId": "71963a65-2d41-4664-ae3b-822131570521"
      },
      "outputs": [
        {
          "output_type": "stream",
          "name": "stdout",
          "text": [
            "\n",
            "  message: Optimization terminated successfully\n",
            " success: True\n",
            "  status: 0\n",
            "     fun: -0.1458936703013689\n",
            "       x: [ 4.603e-02  1.558e-01  5.546e-02  0.000e+00]\n",
            "     nit: 5\n",
            "     jac: [ 1.996e-04  1.656e-06  9.764e-05  2.761e-01]\n",
            "    nfev: 26\n",
            "    njev: 5\n",
            "optimal value p* -0.1458936703013689\n",
            "optimal var: auburn =  0.046027111112978594  duke =  0.15582374906509402  houston =  0.05545514190972257\n",
            "optimal var: florida =  0.0\n",
            "exec time (ms):  8.138916015625\n"
          ]
        }
      ],
      "source": [
        "from scipy.optimize import minimize\n",
        "import numpy as np\n",
        "import time\n",
        "\n",
        "# maximize p_1 * log(1 + x - f_2-f_3-f_4)\n",
        "# + p_2 * log(1 + f_2 * b_2-f_3-f_4)\n",
        "# + p_3 * np.log(1 + f_3 * b_3-f_2-f_4)\n",
        "# + p_4 * np.log(1 + f_4 * b_4-f_2-f_3)\n",
        "\n",
        "# where 0 <= p_1, p_2, p_3, p_4\n",
        "# p_1+p_2+p_3+p_4 = 1\n",
        "# 0 <= f_2, f_3, f_4\n",
        "# f_2+f_3+f_4 <= 1\n",
        "# x >= 0\n",
        "\n",
        "# Payout normalized to bankroll\n",
        "\n",
        "x = 8.0/10.0\n",
        "\n",
        "# Futures\n",
        "\n",
        "auburn = 6.810\n",
        "duke = 2.010\n",
        "florida = 3.830\n",
        "houston = 5.650\n",
        "\n",
        "b_auburn = auburn-1\n",
        "b_duke = duke-1\n",
        "b_florida = florida-1\n",
        "b_houston = houston-1\n",
        "\n",
        "s = 1/auburn + 1/duke + 1/florida + 1/houston\n",
        "\n",
        "p_auburn = 1/auburn / s\n",
        "p_duke = 1/duke / s\n",
        "p_florida = 1/florida / s\n",
        "p_houston = 1/houston / s\n",
        "\n",
        "obj = lambda f: -(p_florida*np.log(1+x+b_florida*f[3]-f[0]-f[1]-f[2]) + p_auburn*np.log(1+f[0]*b_auburn-f[1]-f[2]-f[3]) + p_duke*np.log(1+f[1]*b_duke-f[0]-f[2]-f[3]) + p_houston*np.log(1+f[2]*b_houston-f[0]-f[1]-f[3]))\n",
        "\n",
        "# Jacobian\n",
        "obj_Jac = lambda f: Jacobian(lambda f: obj(f))(f).ravel()\n",
        "\n",
        "# constraints\n",
        "\n",
        "# >= 0\n",
        "\n",
        "constraints = ({'type': 'ineq', 'fun': lambda f: 1-(f[3]+f[0]+f[1]+f[2])}\n",
        "               )\n",
        "\n",
        "# bounds\n",
        "\n",
        "# 0 <= f[i] <= 1\n",
        "\n",
        "bounds = ((0,1),\n",
        "          (0,1),\n",
        "          (0,1),\n",
        "          (0,1)\n",
        "          )\n",
        "\n",
        "f0 = (0,0,0,0)\n",
        "\n",
        "start_time = time.time()*1000\n",
        "result = minimize(obj, f0, method='SLSQP', bounds=bounds, constraints=constraints)\n",
        "end_time = time.time()*1000\n",
        "print('\\n',result)\n",
        "print(\"optimal value p*\", result.fun)\n",
        "print(\"optimal var: auburn = \", result.x[0], \" duke = \", result.x[1], \" houston = \", result.x[2])\n",
        "# Should generally be 0\n",
        "print(\"optimal var: florida = \", result.x[3])\n",
        "print(\"exec time (ms): \", end_time - start_time)"
      ]
    },
    {
      "cell_type": "markdown",
      "source": [
        "##A Closed-Form for Hedging with Championship Futures\n",
        "\n",
        "Note that in the theory of Kelly betting one edge case is 0 vigorish i.e. fair bets. In this case, we bet our entire portfolio, with each bet allocated the fraction p that we estimate is the probability of each outcome.\n",
        "\n",
        "In our case, we're estimating the implied probabilities from the odds themselves. With 0 vigorish, we'd always win/lose exactly \\$0, regardless of the outcome.\n",
        "\n",
        "In our hedge, we're again estimating the probabilities from the odds themselves, so we're always betting an amount proportional to the implied odds. This means we only need to optimize based on a composite futures bet i.e. a team other than Florida winning the championship.\n",
        "\n",
        "Since these probabilities were estimated from the odds, and we're betting proportional to the implied probabilities, every outcome other than Florida results in the same net result for us.\n",
        "\n",
        "Thus, we can view this simply as a Florida / not Florida bet, determining how much to bet on not Florida. Once we know this, we assign bets proportional to applied probabilities. Very easy to analyze.\n",
        "\n",
        "This simplified analysis seeks $0≤f≤1$ that maximizes\n",
        "\n",
        "$$\\log(1+x-f)+(1-p)\\log(1+f(1-p)v-f).$$\n",
        "\n",
        "The critical value is\n",
        "\n",
        "$$f^* = (1-p)(1+x)-pv(1-p)(1-v(1-p)).$$\n",
        "\n",
        "If $f^* > 0$, you hedge, betting $\\min(1,f^*)$ spread proportionally over the futures by implied probability.\n",
        "\n",
        "Finally, we can indeed now see that we don't hedge with a bankroll of \\\\$200000 because the vigorish for championship futures is so high. We would hedge with a bankroll of \\$200000 with smaller vigorish more like moneyline's."
      ],
      "metadata": {
        "id": "sRsu_V3Dxp9H"
      }
    },
    {
      "cell_type": "code",
      "source": [
        "auburn = 6.810\n",
        "duke = 2.010\n",
        "florida = 3.830\n",
        "houston = 5.650\n",
        "\n",
        "b_auburn = auburn-1\n",
        "b_duke = duke-1\n",
        "b_florida = florida-1\n",
        "b_houston = houston-1\n",
        "\n",
        "s = 1/auburn + 1/duke + 1/florida + 1/houston\n",
        "\n",
        "p_auburn = 1/auburn / s\n",
        "p_duke = 1/duke / s\n",
        "p_florida = 1/florida / s\n",
        "p_houston = 1/houston / s"
      ],
      "metadata": {
        "id": "EyaT5n2Y8OD9"
      },
      "execution_count": null,
      "outputs": []
    }
  ]
}