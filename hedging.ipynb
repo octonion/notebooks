{
  "nbformat": 4,
  "nbformat_minor": 0,
  "metadata": {
    "colab": {
      "provenance": [],
      "authorship_tag": "ABX9TyNskstWcs++U/B70SsobAwu",
      "include_colab_link": true
    },
    "kernelspec": {
      "name": "python3",
      "display_name": "Python 3"
    },
    "language_info": {
      "name": "python"
    }
  },
  "cells": [
    {
      "cell_type": "markdown",
      "metadata": {
        "id": "view-in-github",
        "colab_type": "text"
      },
      "source": [
        "<a href=\"https://colab.research.google.com/github/octonion/notebooks/blob/main/hedging.ipynb\" target=\"_parent\"><img src=\"https://colab.research.google.com/assets/colab-badge.svg\" alt=\"Open In Colab\"/></a>"
      ]
    },
    {
      "cell_type": "code",
      "source": [],
      "metadata": {
        "id": "c4mYuWfBxv-n"
      },
      "execution_count": null,
      "outputs": []
    },
    {
      "cell_type": "markdown",
      "source": [
        "# How to Hedge a Futures Bet with Large Equity\n",
        "\n",
        "Say we have an active futures bet with large equity, and we'd like to hedge against the risk of our team losing.\n",
        "\n",
        "For example, we're holding a ticket to collect \\$81000.\n",
        "\n",
        "https://x.com/HouseMoney77/status/1906875727250690215\n",
        "\n",
        "Since it comes up all the time, I'm writing an article outlining some suggestions for hedging future sports bets. A first step is defining what you're trying to do i.e. what you're trying to maximize. My analysis is from the perspective of Kelly betting i.e. log-utility.\n",
        "\n",
        "Even if you aren't a Kelly bettor, it's an excellent framework for learning and understanding the decision-making process for hedging.\n",
        "\n",
        "A little summary on hedging using futures. The analysis turned out to be easier than expected, assuming you're using the probabilities implied by the futures themselves. Unfortunately, vigorish tends to be very high with futures, but the critical value has a nice closed-form.\n",
        "\n",
        "This allows you to very easily decide to hedge or not hedge, *assuming* you want to hedge using futures and implied probabilities.\n",
        "\n",
        "An alternative suggestion is to hedge on a game-by-game basis, using moneyline bets. The critical point here is the root of a quadratic."
      ],
      "metadata": {
        "id": "QQ-jMYCxwj-O"
      }
    },
    {
      "cell_type": "markdown",
      "source": [
        "## Hedging on a Rolling Game Basis"
      ],
      "metadata": {
        "id": "MtTV_1j24SY-"
      }
    },
    {
      "cell_type": "markdown",
      "source": [
        "You can hedge using the tourney futures, but the vigorish is quite high. As an alternative, consider a two-step process. You first hedge on the game vs Auburn. If Florida advances, you also hedge the championship game.\n",
        "\n",
        "Here are the details.\n",
        "\n",
        "With the Florida-Auburn game, consider the three mutually exclusive outcomes - Florida beats Auburn and wins the championship with probability $p_1$, Florida beats Auburn but loses the championship with probability $p_2$, Auburn beats Florida with probability $p_3$.\n",
        "\n",
        "Furthermore, let your bankroll be normalized to $1$, your fixed payout for a Florida championship $P$, and your bankroll $B$. Let $x = P/B$, and Auburn win return $b$.\n",
        "\n",
        "We first seek to maximize bankroll fraction $f$ of\n",
        "\n",
        "$$L = p_1 \\log(1 + x - f) + p_2 \\log(1 - f)+ p_3 \\log(1 + f b).$$\n",
        "\n",
        "If I did the math correctly, this will be the unique root in $(0,1)$ for the quadratic\n",
        "\n",
        "$$b f^2 + [p_1 + p_2 - b(1 + p_3(1+x) + p_2 x)] f + [p_3 b(1+x) - p_1 - p_2(1+x)] = 0.$$\n",
        "\n",
        "Hedging the championship game if Florida advances is substantially simpler. This will be\n",
        "\n",
        "$$f^* = \\min\\left(1, (1 - p)(1 + x) - \\frac{p}{b}\\right),$$\n",
        "\n",
        "where $x$ is defined as before, $b$ is the return if Florida's opponent wins, and $p$ is the implied probability of Florida winning."
      ],
      "metadata": {
        "id": "Xgpd7_Xj2I-f"
      }
    },
    {
      "cell_type": "code",
      "source": [
        "# Payout normalized to bankroll\n",
        "\n",
        "x = 8.1/10.0\n",
        "\n",
        "# Futures\n",
        "\n",
        "auburn = 6.920\n",
        "duke = 1.970\n",
        "florida = 3.890\n",
        "houston = 5.740\n",
        "\n",
        "s = 1/auburn + 1/duke + 1/florida + 1/houston\n",
        "\n",
        "p_auburn = 1/auburn / s\n",
        "p_duke = 1/duke / s\n",
        "p_florida = 1/florida / s\n",
        "p_houston = 1/houston / s\n",
        "\n",
        "# Florida-Auburn\n",
        "\n",
        "fa = 1.680\n",
        "af = 2.250\n",
        "\n",
        "s_fa = 1/fa + 1/af\n",
        "p_fa = 1/fa / s_fa\n",
        "p_af = 1/af / s_fa\n",
        "\n",
        "# Return if Auburn beats Florida\n",
        "b = af-1\n",
        "\n",
        "# Florida championship\n",
        "p_1 = p_florida\n",
        "p_1\n",
        "\n",
        "# Florida beats Auburn, loses championship\n",
        "p_2 = p_fa - p_florida\n",
        "p_2\n",
        "\n",
        "# Auburn beats Florida\n",
        "p_3 = p_af\n",
        "p_3\n",
        "\n",
        "import numpy as np\n",
        "\n",
        "# Coefficients of the quadratic\n",
        "c_2 = b\n",
        "c_1 = (p_1 + p_2 - b*(1 + p_3*(1+x) + p_2 * x))\n",
        "c_0 = (p_3 *b*(1+x) - p_1 - p_2*(1+x))\n",
        "\n",
        "coefficients = [c_2,c_1,c_0]\n",
        "\n",
        "# The desired f* is the root in [0,1]\n",
        "roots = np.roots(coefficients)\n",
        "print(roots)"
      ],
      "metadata": {
        "colab": {
          "base_uri": "https://localhost:8080/"
        },
        "id": "zUxO10LR_ESu",
        "outputId": "ad0e87a9-8f34-4dcf-b70b-bdc41dc5cfaa"
      },
      "execution_count": 12,
      "outputs": [
        {
          "output_type": "stream",
          "name": "stdout",
          "text": [
            "[1.52258457 0.06468556]\n"
          ]
        }
      ]
    },
    {
      "cell_type": "markdown",
      "source": [
        "##Hedging with Championship Futures using scipy.minimize\n",
        "\n",
        "Using log-utility, we want to maximize\n",
        "\n",
        "$$p_1 \\log(1 + x - f_2-f_3-f_4) + p_2 \\log(1 + f_2 b_2-f_3-f_4) + p_3 \\log(1 + f_3 b_3-f_2-f_4) + p_4 \\log(1 + f_4 b_4-f_2-f_3),$$\n",
        "\n",
        "where $0 <= p_1, p_2, p_3, p_4$, $p_1+p_2+p_3+p_4 = 1$, $0 \\leq f_2, f_3, f_4$, $f_2+f_3+f_4 \\leq 1$ and $x \\geq 0$."
      ],
      "metadata": {
        "id": "gRF47ouR488-"
      }
    },
    {
      "cell_type": "code",
      "execution_count": 31,
      "metadata": {
        "colab": {
          "base_uri": "https://localhost:8080/"
        },
        "id": "ikK_nPTFwaRX",
        "outputId": "e58fc98c-4538-4575-fa33-25d9cd50b475"
      },
      "outputs": [
        {
          "output_type": "stream",
          "name": "stdout",
          "text": [
            "\n",
            "  message: Optimization terminated successfully\n",
            " success: True\n",
            "  status: 0\n",
            "     fun: -0.1445699305792817\n",
            "       x: [ 4.425e-02  1.554e-01  5.344e-02  1.235e-16]\n",
            "     nit: 5\n",
            "     jac: [ 8.428e-05  1.255e-04  5.754e-04  2.837e-01]\n",
            "    nfev: 26\n",
            "    njev: 5\n",
            "Optimal value p* -0.1445699305792817\n",
            "Optimal f: auburn =  0.04424580309572772  duke =  0.15544698058084944  houston =  0.053444486422711136\n",
            "Total fraction bet = 0.25313727009928844\n",
            "exec time (ms):  4.2255859375\n"
          ]
        }
      ],
      "source": [
        "from scipy.optimize import minimize\n",
        "import numpy as np\n",
        "import time\n",
        "\n",
        "# maximize p_1 * log(1 + x - f_2-f_3-f_4)\n",
        "# + p_2 * log(1 + f_2 * b_2-f_3-f_4)\n",
        "# + p_3 * np.log(1 + f_3 * b_3-f_2-f_4)\n",
        "# + p_4 * np.log(1 + f_4 * b_4-f_2-f_3)\n",
        "\n",
        "# where 0 <= p_1, p_2, p_3, p_4\n",
        "# p_1+p_2+p_3+p_4 = 1\n",
        "# 0 <= f_2, f_3, f_4\n",
        "# f_2+f_3+f_4 <= 1\n",
        "# x >= 0\n",
        "\n",
        "# Payout normalized to bankroll\n",
        "\n",
        "x = 8.1/10.0\n",
        "\n",
        "# Futures\n",
        "\n",
        "auburn = 6.920\n",
        "duke = 1.970\n",
        "florida = 3.890\n",
        "houston = 5.740\n",
        "\n",
        "s = 1/auburn + 1/duke + 1/florida + 1/houston\n",
        "\n",
        "p_auburn = 1/auburn / s\n",
        "p_duke = 1/duke / s\n",
        "p_florida = 1/florida / s\n",
        "p_houston = 1/houston / s\n",
        "\n",
        "obj = lambda f: -(p_florida*np.log(1+x+b_florida*f[3]-f[0]-f[1]-f[2]) + p_auburn*np.log(1+f[0]*b_auburn-f[1]-f[2]-f[3]) + p_duke*np.log(1+f[1]*b_duke-f[0]-f[2]-f[3]) + p_houston*np.log(1+f[2]*b_houston-f[0]-f[1]-f[3]))\n",
        "\n",
        "# Jacobian\n",
        "obj_Jac = lambda f: Jacobian(lambda f: obj(f))(f).ravel()\n",
        "\n",
        "# constraints\n",
        "\n",
        "# >= 0\n",
        "\n",
        "constraints = ({'type': 'ineq', 'fun': lambda f: 1-(f[3]+f[0]+f[1]+f[2])}\n",
        "               )\n",
        "\n",
        "# bounds\n",
        "\n",
        "# 0 <= f[i] <= 1\n",
        "\n",
        "bounds = ((0,1),\n",
        "          (0,1),\n",
        "          (0,1),\n",
        "          (0,1)\n",
        "          )\n",
        "\n",
        "f0 = (0,0,0,0)\n",
        "\n",
        "start_time = time.time()*1000\n",
        "result = minimize(obj, f0, bounds=bounds, constraints=constraints)\n",
        "end_time = time.time()*1000\n",
        "print('\\n',result)\n",
        "print(\"Optimal value p*\", result.fun)\n",
        "print(\"Optimal f: auburn = \", result.x[0], \" duke = \", result.x[1], \" houston = \", result.x[2])\n",
        "print(f\"Total fraction bet = {sum(result.x)}\")\n",
        "# Should generally be 0\n",
        "#print(\"Optimal var: florida = \", result.x[3])\n",
        "print(\"exec time (ms): \", end_time - start_time)"
      ]
    },
    {
      "cell_type": "markdown",
      "source": [
        "##A Closed-Form for Hedging with Championship Futures\n",
        "\n",
        "Note that in the theory of Kelly betting one edge case is 0 vigorish i.e. fair bets. In this case, we bet our entire portfolio, with each bet allocated the fraction p that we estimate is the probability of each outcome.\n",
        "\n",
        "In our case, we're estimating the implied probabilities from the odds themselves. With 0 vigorish, we'd always win/lose exactly \\$0, regardless of the outcome.\n",
        "\n",
        "In our hedge, we're again estimating the probabilities from the odds themselves, so we're always betting an amount proportional to the implied odds. This means we only need to optimize based on a composite futures bet i.e. a team other than Florida winning the championship.\n",
        "\n",
        "Since these probabilities were estimated from the odds, and we're betting proportional to the implied probabilities, every outcome other than Florida results in the same net result for us.\n",
        "\n",
        "Thus, we can view this simply as a Florida / not Florida bet, determining how much to bet on not Florida. Once we know this, we assign bets proportional to applied probabilities. Very easy to analyze.\n",
        "\n",
        "This simplified analysis seeks $0≤f≤1$ that maximizes\n",
        "\n",
        "$$p \\log(1+x-f)+(1-p)\\log(1+f(1-p)v-f).$$\n",
        "\n",
        "The critical value is\n",
        "\n",
        "$$f^* = (1-p)(1+x)-pv(1-p)/(1-v(1-p)).$$\n",
        "\n",
        "If $f^* > 0$, you hedge, betting $\\min(1,f^*)$ spread proportionally over the futures by implied probability.\n",
        "\n",
        "Finally, we can indeed now see that we don't hedge with a bankroll of \\\\$200000 because the vigorish for championship futures is so high. We would hedge with a bankroll of \\$200000 with smaller vigorish more like moneyline's."
      ],
      "metadata": {
        "id": "sRsu_V3Dxp9H"
      }
    },
    {
      "cell_type": "code",
      "source": [
        "# Payout normalized to bankroll\n",
        "\n",
        "x = 8.1/10.0\n",
        "\n",
        "# Futures\n",
        "\n",
        "auburn = 6.920\n",
        "duke = 1.970\n",
        "florida = 3.890\n",
        "houston = 5.740\n",
        "\n",
        "s = 1/auburn + 1/duke + 1/florida + 1/houston\n",
        "\n",
        "p_auburn = 1/auburn / s\n",
        "p_duke = 1/duke / s\n",
        "p_florida = 1/florida / s\n",
        "p_houston = 1/houston / s\n",
        "\n",
        "b_auburn = auburn-1\n",
        "b_duke = duke-1\n",
        "b_florida = florida-1\n",
        "b_houston = houston-1\n",
        "\n",
        "f = (1-p_florida)*(1+x)-p_florida*s*(1-p_florida)/(1-s*(1-p_florida))\n",
        "print(f\"Total fraction bet = {f}\")\n",
        "\n",
        "s_f = p_auburn + p_duke + p_houston\n",
        "print(\"Optimal f: auburn = \", p_auburn/s_f * f, \" duke = \", p_duke/s_f * f, \" houston = \", p_houston/s_f * f)"
      ],
      "metadata": {
        "colab": {
          "base_uri": "https://localhost:8080/"
        },
        "id": "EyaT5n2Y8OD9",
        "outputId": "d4f1ee98-a430-4c62-83a1-98b3a6e068b8"
      },
      "execution_count": 30,
      "outputs": [
        {
          "output_type": "stream",
          "name": "stdout",
          "text": [
            "Total fraction bet = 0.25147413976445865\n",
            "Optimal f: auburn =  0.0439773476690516  duke =  0.15447880501006958  houston =  0.05301798708533746\n"
          ]
        }
      ]
    }
  ]
}